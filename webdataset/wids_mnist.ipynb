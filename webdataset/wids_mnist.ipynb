{
  "cells": [
    {
      "cell_type": "code",
      "execution_count": 1,
      "metadata": {},
      "outputs": [
        {
          "name": "stdout",
          "output_type": "stream",
          "text": [
            "%pylab is deprecated, use %matplotlib inline and import the required libraries.\n",
            "Populating the interactive namespace from numpy and matplotlib\n"
          ]
        }
      ],
      "source": [
        "%pylab inline"
      ]
    },
    {
      "cell_type": "code",
      "execution_count": 2,
      "metadata": {
        "id": "ZFIUad9FIlm5"
      },
      "outputs": [],
      "source": [
        "import webdataset as wds\n",
        "import webdataset.wids as wids\n",
        "from typing import Any, Dict, Optional, Union\n",
        "import io"
      ]
    },
    {
      "cell_type": "code",
      "execution_count": 3,
      "metadata": {
        "id": "8GhsTkGHIrTE"
      },
      "outputs": [],
      "source": [
        "shards = [dict(url=\"gs://lpr-torchvision/mnist-train.tar\", nsamples=50000)]\n",
        "ds = wids.ShardListDataset(shards, keep=True)"
      ]
    },
    {
      "cell_type": "code",
      "execution_count": 4,
      "metadata": {
        "colab": {
          "base_uri": "https://localhost:8080/",
          "height": 323
        },
        "id": "_HS3Gv6Cj_DM",
        "outputId": "48dafb8d-a3f7-4c43-aa7f-e158f727935a"
      },
      "outputs": [
        {
          "name": "stdout",
          "output_type": "stream",
          "text": [
            "gs://lpr-torchvision/mnist-train.tar /tmp/wids/mnist-train.tar /tmp/wids/mnist-train.tar._3836221_\n",
            "Loading tar index from /tmp/wids/mnist-train.tar.index\n"
          ]
        },
        {
          "data": {
            "text/plain": [
              "<matplotlib.image.AxesImage at 0x7f31b3863d90>"
            ]
          },
          "execution_count": 4,
          "metadata": {},
          "output_type": "execute_result"
        },
        {
          "data": {
            "image/png": "[encoded data removed]",
            "text/plain": [
              "<Figure size 640x480 with 1 Axes>"
            ]
          },
          "metadata": {},
          "output_type": "display_data"
        }
      ],
      "source": [
        "imshow(ds[1788][\".png\"])"
      ]
    },
    {
      "cell_type": "code",
      "execution_count": 5,
      "metadata": {
        "colab": {
          "base_uri": "https://localhost:8080/"
        },
        "id": "sXDHRU15kH0a",
        "outputId": "29c24dfc-7c0f-4677-e9ee-c00aa1fdac69"
      },
      "outputs": [],
      "source": [
        "for i in range(len(ds)):\n",
        "    _ = ds[i]"
      ]
    },
    {
      "cell_type": "code",
      "execution_count": null,
      "metadata": {
        "id": "uhmLhWLTkNt8"
      },
      "outputs": [],
      "source": []
    }
  ],
  "metadata": {
    "colab": {
      "provenance": []
    },
    "kernelspec": {
      "display_name": "Python 3",
      "name": "python3"
    },
    "language_info": {
      "codemirror_mode": {
        "name": "ipython",
        "version": 3
      },
      "file_extension": ".py",
      "mimetype": "text/x-python",
      "name": "python",
      "nbconvert_exporter": "python",
      "pygments_lexer": "ipython3",
      "version": "3.10.12"
    }
  },
  "nbformat": 4,
  "nbformat_minor": 0
}
